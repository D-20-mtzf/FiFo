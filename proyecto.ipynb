{
  "nbformat": 4,
  "nbformat_minor": 0,
  "metadata": {
    "colab": {
      "provenance": [],
      "authorship_tag": "ABX9TyO2fSfjQ05KJs3LgoqczGZp",
      "include_colab_link": true
    },
    "kernelspec": {
      "name": "python3",
      "display_name": "Python 3"
    },
    "language_info": {
      "name": "python"
    }
  },
  "cells": [
    {
      "cell_type": "markdown",
      "metadata": {
        "id": "view-in-github",
        "colab_type": "text"
      },
      "source": [
        "<a href=\"https://colab.research.google.com/github/D-20-mtzf/Fifo/blob/master/proyecto.ipynb\" target=\"_parent\"><img src=\"https://colab.research.google.com/assets/colab-badge.svg\" alt=\"Open In Colab\"/></a>"
      ]
    },
    {
      "cell_type": "code",
      "execution_count": 4,
      "metadata": {
        "colab": {
          "base_uri": "https://localhost:8080/"
        },
        "id": "czh0P1VoMc1M",
        "outputId": "1942ad08-7ff0-4272-9d7a-155d93b56c95"
      },
      "outputs": [
        {
          "output_type": "stream",
          "name": "stdout",
          "text": [
            "1\n",
            "2\n",
            "False\n"
          ]
        }
      ],
      "source": [
        "class FIFO:\n",
        "    def __init__(self):\n",
        "        self.items = []\n",
        "\n",
        "    def agregar(self, item):\n",
        "        self.items.append(item)\n",
        "\n",
        "    def eliminar(self):\n",
        "        if not self.esta_vacia():\n",
        "            return self.items.pop(0)\n",
        "\n",
        "    def esta_vacia(self):\n",
        "        return len(self.items) == 0\n",
        "\n",
        "cola = FIFO()\n",
        "cola.agregar(1)\n",
        "cola.agregar(2)\n",
        "cola.agregar(3)\n",
        "print(cola.eliminar()) # Salida: 1\n",
        "print(cola.eliminar()) # Salida: 2\n",
        "print(cola.esta_vacia()) # Salida: False\n"
      ]
    }
  ]
}